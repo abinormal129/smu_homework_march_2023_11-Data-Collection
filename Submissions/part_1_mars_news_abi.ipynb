{
 "cells": [
  {
   "cell_type": "markdown",
   "metadata": {},
   "source": [
    "# Module 12 Challenge\n",
    "## Deliverable 1: Scrape Titles and Preview Text from Mars News"
   ]
  },
  {
   "cell_type": "code",
   "execution_count": 1,
   "metadata": {},
   "outputs": [],
   "source": [
    "# Import Splinter and BeautifulSoup (and other dependencies)\n",
    "from splinter import Browser\n",
    "from bs4 import BeautifulSoup\n",
    "import pandas as pd\n",
    "import numpy as np\n",
    "import matplotlib.pyplot as plt\n",
    "\n",
    "from webdriver_manager.chrome import ChromeDriverManager"
   ]
  },
  {
   "cell_type": "code",
   "execution_count": 2,
   "metadata": {
    "scrolled": true
   },
   "outputs": [
    {
     "name": "stderr",
     "output_type": "stream",
     "text": [
      "[WDM] - Downloading: 100%|████████████████████████████████████████████████████████| 6.30M/6.30M [00:00<00:00, 18.8MB/s]\n"
     ]
    }
   ],
   "source": [
    "# Set up Splinter, launch Chrome browser\n",
    "executable_path = {'executable_path': ChromeDriverManager().install()}\n",
    "browser = Browser('chrome', **executable_path, headless=False)"
   ]
  },
  {
   "cell_type": "markdown",
   "metadata": {},
   "source": [
    "### Step 1: Visit the Website\n",
    "\n",
    "1. Use automated browsing to visit the [Mars news site](https://static.bc-edx.com/data/web/mars_news/index.html). Inspect the page to identify which elements to scrape.\n",
    "\n",
    "      > **Hint** To identify which elements to scrape, you might want to inspect the page by using Chrome DevTools."
   ]
  },
  {
   "cell_type": "code",
   "execution_count": 3,
   "metadata": {},
   "outputs": [],
   "source": [
    "# Visit the Mars news site\n",
    "url = 'https://static.bc-edx.com/data/web/mars_news/index.html'\n",
    "browser.visit(url)"
   ]
  },
  {
   "cell_type": "markdown",
   "metadata": {},
   "source": [
    "### Step 2: Scrape the Website\n",
    "\n",
    "Create a Beautiful Soup object and use it to extract text elements from the website."
   ]
  },
  {
   "cell_type": "code",
   "execution_count": 4,
   "metadata": {},
   "outputs": [],
   "source": [
    "# Scrape the website\n",
    "html = browser.html\n",
    "\n",
    "# Create a Beautiful Soup object\n",
    "soup = BeautifulSoup(html, \"lxml\")"
   ]
  },
  {
   "cell_type": "code",
   "execution_count": 5,
   "metadata": {},
   "outputs": [
    {
     "data": {
      "text/plain": [
       "<div class=\"row\">\n",
       "<div class=\"col-md-4\">\n",
       "<div class=\"list_image\">\n",
       "<img src=\"images/9299_maven-vertical-limb-320x240.jpeg\"/>\n",
       "</div>\n",
       "</div>\n",
       "<div class=\"col-md-8\">\n",
       "<div class=\"list_text\">\n",
       "<div class=\"list_date\">November 9, 2022</div>\n",
       "<div class=\"content_title\">NASA's MAVEN Observes Martian Light Show Caused by Major Solar Storm</div>\n",
       "<div class=\"article_teaser_body\">For the first time in its eight years orbiting Mars, NASA’s MAVEN mission witnessed two different types of ultraviolet aurorae simultaneously, the result of solar storms that began on Aug. 27.</div>\n",
       "</div>\n",
       "</div>\n",
       "</div>"
      ]
     },
     "execution_count": 5,
     "metadata": {},
     "output_type": "execute_result"
    }
   ],
   "source": [
    "# Extract all the text elements\n",
    "articles = soup.find(\"div\", {\"id\": \"news\"}).find_all(\"div\", {\"class\": \"row\"})\n",
    "articles[0]"
   ]
  },
  {
   "cell_type": "markdown",
   "metadata": {},
   "source": [
    "### Step 3: Store the Results\n",
    "\n",
    "Extract the titles and preview text of the news articles that you scraped. Store the scraping results in Python data structures as follows:\n",
    "\n",
    "* Store each title-and-preview pair in a Python dictionary. And, give each dictionary two keys: `title` and `preview`. An example is the following:\n",
    "\n",
    "  ```python\n",
    "  {'title': \"NASA's MAVEN Observes Martian Light Show Caused by Major Solar Storm\", \n",
    "   'preview': \"For the first time in its eight years orbiting Mars, NASA’s MAVEN mission witnessed two different types of ultraviolet aurorae simultaneously, the result of solar storms that began on Aug. 27.\"\n",
    "  }\n",
    "  ```\n",
    "\n",
    "* Store all the dictionaries in a Python list.\n",
    "\n",
    "* Print the list in your notebook."
   ]
  },
  {
   "cell_type": "code",
   "execution_count": 10,
   "metadata": {},
   "outputs": [
    {
     "data": {
      "text/html": [
       "<div>\n",
       "<style scoped>\n",
       "    .dataframe tbody tr th:only-of-type {\n",
       "        vertical-align: middle;\n",
       "    }\n",
       "\n",
       "    .dataframe tbody tr th {\n",
       "        vertical-align: top;\n",
       "    }\n",
       "\n",
       "    .dataframe thead th {\n",
       "        text-align: right;\n",
       "    }\n",
       "</style>\n",
       "<table border=\"1\" class=\"dataframe\">\n",
       "  <thead>\n",
       "    <tr style=\"text-align: right;\">\n",
       "      <th></th>\n",
       "      <th>date</th>\n",
       "      <th>title</th>\n",
       "      <th>preview</th>\n",
       "    </tr>\n",
       "  </thead>\n",
       "  <tbody>\n",
       "    <tr>\n",
       "      <th>0</th>\n",
       "      <td>2022-11-09</td>\n",
       "      <td>NASA's MAVEN Observes Martian Light Show Cause...</td>\n",
       "      <td>For the first time in its eight years orbiting...</td>\n",
       "    </tr>\n",
       "    <tr>\n",
       "      <th>1</th>\n",
       "      <td>2022-11-01</td>\n",
       "      <td>NASA Prepares to Say 'Farewell' to InSight Spa...</td>\n",
       "      <td>A closer look at what goes into wrapping up th...</td>\n",
       "    </tr>\n",
       "    <tr>\n",
       "      <th>2</th>\n",
       "      <td>2022-10-28</td>\n",
       "      <td>NASA and ESA Agree on Next Steps to Return Mar...</td>\n",
       "      <td>The agency’s Perseverance rover will establish...</td>\n",
       "    </tr>\n",
       "    <tr>\n",
       "      <th>3</th>\n",
       "      <td>2022-10-27</td>\n",
       "      <td>NASA's InSight Lander Detects Stunning Meteoro...</td>\n",
       "      <td>The agency’s lander felt the ground shake duri...</td>\n",
       "    </tr>\n",
       "    <tr>\n",
       "      <th>4</th>\n",
       "      <td>2022-10-21</td>\n",
       "      <td>NASA To Host Briefing on InSight, Mars Reconna...</td>\n",
       "      <td>Scientists from two Mars missions will discuss...</td>\n",
       "    </tr>\n",
       "    <tr>\n",
       "      <th>5</th>\n",
       "      <td>2022-10-20</td>\n",
       "      <td>Why NASA Is Trying To Crash Land on Mars</td>\n",
       "      <td>Like a car’s crumple zone, the experimental SH...</td>\n",
       "    </tr>\n",
       "    <tr>\n",
       "      <th>6</th>\n",
       "      <td>2022-10-19</td>\n",
       "      <td>Curiosity Mars Rover Reaches Long-Awaited Salt...</td>\n",
       "      <td>After years of climbing, the Mars rover has ar...</td>\n",
       "    </tr>\n",
       "    <tr>\n",
       "      <th>7</th>\n",
       "      <td>2022-10-12</td>\n",
       "      <td>Mars Mission Shields Up for Tests</td>\n",
       "      <td>Protecting Mars Sample Return spacecraft from ...</td>\n",
       "    </tr>\n",
       "    <tr>\n",
       "      <th>8</th>\n",
       "      <td>2022-10-07</td>\n",
       "      <td>NASA's InSight Waits Out Dust Storm</td>\n",
       "      <td>InSight’s team is taking steps to help the sol...</td>\n",
       "    </tr>\n",
       "    <tr>\n",
       "      <th>9</th>\n",
       "      <td>2022-09-19</td>\n",
       "      <td>NASA's InSight 'Hears' Its First Meteoroid Imp...</td>\n",
       "      <td>The Mars lander’s seismometer has picked up vi...</td>\n",
       "    </tr>\n",
       "  </tbody>\n",
       "</table>\n",
       "</div>"
      ],
      "text/plain": [
       "        date                                              title  \\\n",
       "0 2022-11-09  NASA's MAVEN Observes Martian Light Show Cause...   \n",
       "1 2022-11-01  NASA Prepares to Say 'Farewell' to InSight Spa...   \n",
       "2 2022-10-28  NASA and ESA Agree on Next Steps to Return Mar...   \n",
       "3 2022-10-27  NASA's InSight Lander Detects Stunning Meteoro...   \n",
       "4 2022-10-21  NASA To Host Briefing on InSight, Mars Reconna...   \n",
       "5 2022-10-20           Why NASA Is Trying To Crash Land on Mars   \n",
       "6 2022-10-19  Curiosity Mars Rover Reaches Long-Awaited Salt...   \n",
       "7 2022-10-12                  Mars Mission Shields Up for Tests   \n",
       "8 2022-10-07                NASA's InSight Waits Out Dust Storm   \n",
       "9 2022-09-19  NASA's InSight 'Hears' Its First Meteoroid Imp...   \n",
       "\n",
       "                                             preview  \n",
       "0  For the first time in its eight years orbiting...  \n",
       "1  A closer look at what goes into wrapping up th...  \n",
       "2  The agency’s Perseverance rover will establish...  \n",
       "3  The agency’s lander felt the ground shake duri...  \n",
       "4  Scientists from two Mars missions will discuss...  \n",
       "5  Like a car’s crumple zone, the experimental SH...  \n",
       "6  After years of climbing, the Mars rover has ar...  \n",
       "7  Protecting Mars Sample Return spacecraft from ...  \n",
       "8  InSight’s team is taking steps to help the sol...  \n",
       "9  The Mars lander’s seismometer has picked up vi...  "
      ]
     },
     "execution_count": 10,
     "metadata": {},
     "output_type": "execute_result"
    }
   ],
   "source": [
    "# Create an empty list to store the dictionaries\n",
    "rows = []\n",
    "\n",
    "# Loop through the text elements\n",
    "# Extract the title and preview text from the elements\n",
    "# Store each title and preview pair in a dictionary\n",
    "# Add the dictionary to the list\n",
    "for article in articles:\n",
    "    date = article.find(\"div\", {\"class\": \"list_date\"}).text\n",
    "    title = article.find(\"div\", {\"class\": \"content_title\"}).text\n",
    "    preview = article.find(\"div\", {\"class\": \"article_teaser_body\"}).text\n",
    "    \n",
    "    row = {\"date\": date,\n",
    "          \"title\": title,\n",
    "          \"preview\": preview}\n",
    "    \n",
    "    rows.append(row)\n",
    "    \n",
    "# Print the list to confirm success    \n",
    "df = pd.DataFrame(rows)\n",
    "df[\"date\"] = pd.to_datetime(df[\"date\"])\n",
    "df.head(10)"
   ]
  },
  {
   "cell_type": "code",
   "execution_count": 9,
   "metadata": {},
   "outputs": [],
   "source": [
    "browser.quit()"
   ]
  },
  {
   "cell_type": "code",
   "execution_count": null,
   "metadata": {},
   "outputs": [],
   "source": []
  }
 ],
 "metadata": {
  "kernelspec": {
   "display_name": "Python 3 (ipykernel)",
   "language": "python",
   "name": "python3"
  },
  "language_info": {
   "codemirror_mode": {
    "name": "ipython",
    "version": 3
   },
   "file_extension": ".py",
   "mimetype": "text/x-python",
   "name": "python",
   "nbconvert_exporter": "python",
   "pygments_lexer": "ipython3",
   "version": "3.10.9"
  },
  "vscode": {
   "interpreter": {
    "hash": "31f2aee4e71d21fbe5cf8b01ff0e069b9275f58929596ceb00d14d90e3e16cd6"
   }
  }
 },
 "nbformat": 4,
 "nbformat_minor": 4
}
